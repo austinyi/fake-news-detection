{
 "cells": [
  {
   "cell_type": "code",
   "execution_count": 29,
   "metadata": {},
   "outputs": [],
   "source": [
    "import string\n",
    "from collections import OrderedDict\n",
    "from scipy.sparse import csr_matrix\n",
    "from collections import Counter\n",
    "\n",
    "def add_words(text, unique_words):\n",
    "    \"\"\"\n",
    "    This function strips out the punctuations within an article, and add\n",
    "    words to the provided ORDERED dictionary if they are not already in there. \n",
    "    The values of the dictionary is ignored.\n",
    "    \"\"\"\n",
    "    text = str(text).encode(\"ascii\", errors=\"ignore\").decode()              # removing non-ascii characters\n",
    "    text = text.translate(str.maketrans('', '', string.punctuation))        # removing punctuations\n",
    "    text = text.lower()                                                     # changing all to lowercase\n",
    "    for word in text.split():                                               # use `split()` without arguments for multiple spaces\n",
    "        if len(word) > 1:\n",
    "            unique_words.add(word)\n",
    "\n",
    "def count_words(index, text, row, col, val, vocab):\n",
    "    \"\"\"\n",
    "    This function counts the words in an article and append the values\n",
    "    according to the sparse matrix format.\n",
    "    \"\"\"\n",
    "    text = str(text).encode(\"ascii\", errors=\"ignore\").decode()              # removing non-ascii characters\n",
    "    text = text.translate(str.maketrans('', '', string.punctuation))        # removing punctuations\n",
    "    text = text.lower()                                                     # changing all to lowercase\n",
    "    counter = {}\n",
    "    for word in text.split():                                               # use `split()` without arguments for multiple spaces\n",
    "        if len(word) > 1:\n",
    "            counter[word] = counter[word] + 1 if word in counter else 0\n",
    "    for word, count in counter.items():\n",
    "        if len(word) > 1:\n",
    "            row.append(index)\n",
    "            col.append(vocab[word])\n",
    "            val.append(count)"
   ]
  },
  {
   "cell_type": "code",
   "execution_count": 30,
   "metadata": {},
   "outputs": [
    {
     "data": {
      "text/html": [
       "<div>\n",
       "<style scoped>\n",
       "    .dataframe tbody tr th:only-of-type {\n",
       "        vertical-align: middle;\n",
       "    }\n",
       "\n",
       "    .dataframe tbody tr th {\n",
       "        vertical-align: top;\n",
       "    }\n",
       "\n",
       "    .dataframe thead th {\n",
       "        text-align: right;\n",
       "    }\n",
       "</style>\n",
       "<table border=\"1\" class=\"dataframe\">\n",
       "  <thead>\n",
       "    <tr style=\"text-align: right;\">\n",
       "      <th></th>\n",
       "      <th>id</th>\n",
       "      <th>title</th>\n",
       "      <th>author</th>\n",
       "      <th>text</th>\n",
       "      <th>label</th>\n",
       "    </tr>\n",
       "  </thead>\n",
       "  <tbody>\n",
       "    <tr>\n",
       "      <th>0</th>\n",
       "      <td>0</td>\n",
       "      <td>House Dem Aide: We Didn’t Even See Comey’s Let...</td>\n",
       "      <td>Darrell Lucus</td>\n",
       "      <td>House Dem Aide: We Didn’t Even See Comey’s Let...</td>\n",
       "      <td>1</td>\n",
       "    </tr>\n",
       "    <tr>\n",
       "      <th>1</th>\n",
       "      <td>1</td>\n",
       "      <td>FLYNN: Hillary Clinton, Big Woman on Campus - ...</td>\n",
       "      <td>Daniel J. Flynn</td>\n",
       "      <td>Ever get the feeling your life circles the rou...</td>\n",
       "      <td>0</td>\n",
       "    </tr>\n",
       "    <tr>\n",
       "      <th>2</th>\n",
       "      <td>2</td>\n",
       "      <td>Why the Truth Might Get You Fired</td>\n",
       "      <td>Consortiumnews.com</td>\n",
       "      <td>Why the Truth Might Get You Fired October 29, ...</td>\n",
       "      <td>1</td>\n",
       "    </tr>\n",
       "    <tr>\n",
       "      <th>3</th>\n",
       "      <td>3</td>\n",
       "      <td>15 Civilians Killed In Single US Airstrike Hav...</td>\n",
       "      <td>Jessica Purkiss</td>\n",
       "      <td>Videos 15 Civilians Killed In Single US Airstr...</td>\n",
       "      <td>1</td>\n",
       "    </tr>\n",
       "    <tr>\n",
       "      <th>4</th>\n",
       "      <td>4</td>\n",
       "      <td>Iranian woman jailed for fictional unpublished...</td>\n",
       "      <td>Howard Portnoy</td>\n",
       "      <td>Print \\nAn Iranian woman has been sentenced to...</td>\n",
       "      <td>1</td>\n",
       "    </tr>\n",
       "    <tr>\n",
       "      <th>...</th>\n",
       "      <td>...</td>\n",
       "      <td>...</td>\n",
       "      <td>...</td>\n",
       "      <td>...</td>\n",
       "      <td>...</td>\n",
       "    </tr>\n",
       "    <tr>\n",
       "      <th>20795</th>\n",
       "      <td>20795</td>\n",
       "      <td>Rapper T.I.: Trump a ’Poster Child For White S...</td>\n",
       "      <td>Jerome Hudson</td>\n",
       "      <td>Rapper T. I. unloaded on black celebrities who...</td>\n",
       "      <td>0</td>\n",
       "    </tr>\n",
       "    <tr>\n",
       "      <th>20796</th>\n",
       "      <td>20796</td>\n",
       "      <td>N.F.L. Playoffs: Schedule, Matchups and Odds -...</td>\n",
       "      <td>Benjamin Hoffman</td>\n",
       "      <td>When the Green Bay Packers lost to the Washing...</td>\n",
       "      <td>0</td>\n",
       "    </tr>\n",
       "    <tr>\n",
       "      <th>20797</th>\n",
       "      <td>20797</td>\n",
       "      <td>Macy’s Is Said to Receive Takeover Approach by...</td>\n",
       "      <td>Michael J. de la Merced and Rachel Abrams</td>\n",
       "      <td>The Macy’s of today grew from the union of sev...</td>\n",
       "      <td>0</td>\n",
       "    </tr>\n",
       "    <tr>\n",
       "      <th>20798</th>\n",
       "      <td>20798</td>\n",
       "      <td>NATO, Russia To Hold Parallel Exercises In Bal...</td>\n",
       "      <td>Alex Ansary</td>\n",
       "      <td>NATO, Russia To Hold Parallel Exercises In Bal...</td>\n",
       "      <td>1</td>\n",
       "    </tr>\n",
       "    <tr>\n",
       "      <th>20799</th>\n",
       "      <td>20799</td>\n",
       "      <td>What Keeps the F-35 Alive</td>\n",
       "      <td>David Swanson</td>\n",
       "      <td>David Swanson is an author, activist, journa...</td>\n",
       "      <td>1</td>\n",
       "    </tr>\n",
       "  </tbody>\n",
       "</table>\n",
       "<p>20800 rows × 5 columns</p>\n",
       "</div>"
      ],
      "text/plain": [
       "          id                                              title  \\\n",
       "0          0  House Dem Aide: We Didn’t Even See Comey’s Let...   \n",
       "1          1  FLYNN: Hillary Clinton, Big Woman on Campus - ...   \n",
       "2          2                  Why the Truth Might Get You Fired   \n",
       "3          3  15 Civilians Killed In Single US Airstrike Hav...   \n",
       "4          4  Iranian woman jailed for fictional unpublished...   \n",
       "...      ...                                                ...   \n",
       "20795  20795  Rapper T.I.: Trump a ’Poster Child For White S...   \n",
       "20796  20796  N.F.L. Playoffs: Schedule, Matchups and Odds -...   \n",
       "20797  20797  Macy’s Is Said to Receive Takeover Approach by...   \n",
       "20798  20798  NATO, Russia To Hold Parallel Exercises In Bal...   \n",
       "20799  20799                          What Keeps the F-35 Alive   \n",
       "\n",
       "                                          author  \\\n",
       "0                                  Darrell Lucus   \n",
       "1                                Daniel J. Flynn   \n",
       "2                             Consortiumnews.com   \n",
       "3                                Jessica Purkiss   \n",
       "4                                 Howard Portnoy   \n",
       "...                                          ...   \n",
       "20795                              Jerome Hudson   \n",
       "20796                           Benjamin Hoffman   \n",
       "20797  Michael J. de la Merced and Rachel Abrams   \n",
       "20798                                Alex Ansary   \n",
       "20799                              David Swanson   \n",
       "\n",
       "                                                    text  label  \n",
       "0      House Dem Aide: We Didn’t Even See Comey’s Let...      1  \n",
       "1      Ever get the feeling your life circles the rou...      0  \n",
       "2      Why the Truth Might Get You Fired October 29, ...      1  \n",
       "3      Videos 15 Civilians Killed In Single US Airstr...      1  \n",
       "4      Print \\nAn Iranian woman has been sentenced to...      1  \n",
       "...                                                  ...    ...  \n",
       "20795  Rapper T. I. unloaded on black celebrities who...      0  \n",
       "20796  When the Green Bay Packers lost to the Washing...      0  \n",
       "20797  The Macy’s of today grew from the union of sev...      0  \n",
       "20798  NATO, Russia To Hold Parallel Exercises In Bal...      1  \n",
       "20799    David Swanson is an author, activist, journa...      1  \n",
       "\n",
       "[20800 rows x 5 columns]"
      ]
     },
     "execution_count": 30,
     "metadata": {},
     "output_type": "execute_result"
    }
   ],
   "source": [
    "# Use pandas to load the data into a DataFrame, which is displayed below.\n",
    "\n",
    "import pandas as pd\n",
    "df = pd.read_csv(\"./datasets/train.csv\")\n",
    "df"
   ]
  },
  {
   "cell_type": "code",
   "execution_count": 31,
   "metadata": {},
   "outputs": [
    {
     "name": "stdout",
     "output_type": "stream",
     "text": [
      "4202\n"
     ]
    },
    {
     "data": {
      "text/plain": [
       "'rapper ti trump a poster child for white supremacy jerome hudson rapper t i unloaded on black celebrities who met with donald trump after the election saying they failed to challenge the president for disrespecting and degrading black voters during the campaign the atlanta   based artist told the   of the view thursday that he took issue with talk show host steve harvey   kanye west and football hall of famer and civil rights champion jim brown meeting with trump  before you stand and smile and say this is a good man and take pictures what about addressing the disrespect and disregard for our community that was done t i said adding and what about him being the poster child for white supremacy and standing for the people who look to devalue our lives the   star of the vh1 reality show t i  tiny the family hustle also defended fellow rapper snoop dogg who recently starred in a   music video that sees the doggystyle rapper pull a gun on and shoot a parody clown version of president donald trump whatever snoop said he had the right to say hes protected by the constitution in saying it t i said we have to protect our legends we have to protect our heroes and the people who mean something to us and our community and our culture  the view   sunny hostin suggested that trump advisor omarosa manigault has stated the administrations intention to bridge the gap between the white house and the black community to which t i responded with a personal insult she cant even bridge the gap in her teeth the rapper said t i had originally defended snoop dogg and his controversial video in an instagram message calling trump a fcking tangerine tanned muskrat scrotum skin lacefront possum fur wig wearing alternative fact atomic dog diarrhea face ass man sic    follow jerome hudson on twitter jeromeehudson'"
      ]
     },
     "execution_count": 31,
     "metadata": {},
     "output_type": "execute_result"
    }
   ],
   "source": [
    "authors = set(list(df['author']))\n",
    "print(len(authors))\n",
    "\n",
    "# Combining title, author and the text to a single field \"full\"\n",
    "df['full'] = df['title'] + ' ' + df['author'] + ' ' + df['text']\n",
    "# df['full'] = df['title'] + ' ' + df['text']\n",
    "\n",
    "# Printing out an example\n",
    "str(df.loc[20795,:]['full']) \\\n",
    "    .encode(\"ascii\", errors=\"ignore\").decode() \\\n",
    "    .translate(str.maketrans('', '', string.punctuation)) \\\n",
    "    .lower()"
   ]
  },
  {
   "cell_type": "code",
   "execution_count": 32,
   "metadata": {},
   "outputs": [
    {
     "name": "stdout",
     "output_type": "stream",
     "text": [
      "182\n",
      "{'skin', 'is', 'calling', 'video', 'dogg', 'say', 'was', 'sees', 'degrading', 'steve', 'manigault', 'look', 'responded', 'donald', 'personal', 'met', 'his', 'told', 'white', 'west', 'version', 'good', 'trump', 'he', 'between', 'failed', 'unloaded', 'voters', 'fact', 'based', 'have', 'even', 'scrotum', 'for', 'by', 'also', 'wig', 'reality', 'vh1', 'her', 'doggystyle', 'devalue', 'rapper', 'protect', 'pull', 'saying', 'disrespect', 'before', 'protected', 'talk', 'take', 'ti', 'jeromeehudson', 'heroes', 'lives', 'meeting', 'challenge', 'kanye', 'pictures', 'follow', 'hes', 'insult', 'parody', 'fellow', 'gap', 'and', 'atlanta', 'celebrities', 'on', 'standing', 'muskrat', 'message', 'supremacy', 'adding', 'the', 'it', 'whatever', 'view', 'people', 'after', 'family', 'tanned', 'him', 'star', 'done', 'which', 'intention', 'our', 'wearing', 'constitution', 'who', 'sunny', 'with', 'cant', 'has', 'man', 'disrespecting', 'sic', 'brown', 'advisor', 'tiny', 'omarosa', 'about', 'we', 'hudson', 'what', 'something', 'teeth', 'disregard', 'legends', 'she', 'originally', 'jerome', 'house', 'artist', 'election', 'said', 'twitter', 'champion', 'smile', 'jim', 'hostin', 'an', 'child', 'recently', 'stated', 'to', 'campaign', 'during', 'shoot', 'addressing', 'this', 'community', 'right', 'us', 'tangerine', 'gun', 'took', 'suggested', 'snoop', 'you', 'fur', 'stand', 'culture', 'administrations', 'president', 'clown', 'hustle', 'black', 'had', 'dog', 'mean', 'defended', 'show', 'music', 'they', 'of', 'instagram', 'controversial', 'hall', 'famer', 'being', 'in', 'thursday', 'issue', 'football', 'host', 'rights', 'starred', 'face', 'ass', 'lacefront', 'fcking', 'possum', 'harvey', 'poster', 'that', 'bridge', 'diarrhea', 'alternative', 'atomic', 'civil'}\n"
     ]
    }
   ],
   "source": [
    "# Testing with add_words() and the example article from above\n",
    "word_dict_test = set()\n",
    "\n",
    "add_words(df.loc[20795,:]['full'], word_dict_test)\n",
    "print(len(word_dict_test))\n",
    "print(word_dict_test)"
   ]
  },
  {
   "cell_type": "code",
   "execution_count": 33,
   "metadata": {},
   "outputs": [
    {
     "name": "stdout",
     "output_type": "stream",
     "text": [
      "Done adding words\n"
     ]
    }
   ],
   "source": [
    "# add_words()\n",
    "\n",
    "unique_words = set()\n",
    "for text in df['full']:\n",
    "    add_words(text, unique_words)\n",
    "\n",
    "vocab = {}\n",
    "for index, word in enumerate(sorted(unique_words)):\n",
    "    vocab[word] = index\n",
    "print('Done adding words')"
   ]
  },
  {
   "cell_type": "code",
   "execution_count": 34,
   "metadata": {},
   "outputs": [
    {
     "name": "stdout",
     "output_type": "stream",
     "text": [
      "176874\n",
      "[('stapleton', 150000), ('stapling', 150001), ('star', 150002), ('staraj', 150003), ('starboard', 150004), ('starboards', 150005), ('starbucks', 150006), ('starcaps', 150007), ('starch', 150008), ('starched', 150009), ('starches', 150010), ('starchild', 150011), ('starchitect', 150012), ('starchitects', 150013), ('starchy', 150014), ('stardom', 150015), ('stardust', 150016), ('stare', 150017), ('stared', 150018), ('starej', 150019)]\n"
     ]
    }
   ],
   "source": [
    "# Printing out the length and a sample of words from the dictionary.\n",
    "\n",
    "print(len(vocab))\n",
    "print(list(vocab.items())[150000:150020])"
   ]
  },
  {
   "cell_type": "code",
   "execution_count": 35,
   "metadata": {},
   "outputs": [
    {
     "name": "stdout",
     "output_type": "stream",
     "text": [
      "Done counting words\n",
      "  (0, 2672)\t0\n",
      "  (0, 2721)\t1\n",
      "  (0, 3449)\t0\n",
      "  (0, 3638)\t0\n",
      "  (0, 3742)\t0\n",
      "  (0, 5904)\t0\n",
      "  (0, 7074)\t0\n",
      "  (0, 7167)\t6\n",
      "  (0, 7394)\t0\n",
      "  (0, 7612)\t2\n",
      "  (0, 7997)\t0\n",
      "  (0, 8091)\t0\n",
      "  (0, 8675)\t0\n",
      "  (0, 9075)\t4\n",
      "  (0, 9191)\t0\n",
      "  (0, 9583)\t5\n",
      "  (0, 10786)\t1\n",
      "  (0, 11316)\t2\n",
      "  (0, 11388)\t1\n",
      "  (0, 11904)\t0\n",
      "  (0, 12292)\t4\n",
      "  (0, 12458)\t0\n",
      "  (0, 12480)\t14\n",
      "  (0, 13020)\t0\n",
      "  (0, 13176)\t0\n",
      "  :\t:\n",
      "  (20799, 173348)\t0\n",
      "  (20799, 173409)\t0\n",
      "  (20799, 173422)\t0\n",
      "  (20799, 173440)\t0\n",
      "  (20799, 173495)\t4\n",
      "  (20799, 173503)\t0\n",
      "  (20799, 173504)\t0\n",
      "  (20799, 173591)\t0\n",
      "  (20799, 173664)\t0\n",
      "  (20799, 173670)\t0\n",
      "  (20799, 173717)\t0\n",
      "  (20799, 173944)\t0\n",
      "  (20799, 173976)\t0\n",
      "  (20799, 174002)\t0\n",
      "  (20799, 174015)\t0\n",
      "  (20799, 174031)\t0\n",
      "  (20799, 174171)\t0\n",
      "  (20799, 174172)\t0\n",
      "  (20799, 174176)\t0\n",
      "  (20799, 174237)\t0\n",
      "  (20799, 174846)\t0\n",
      "  (20799, 174875)\t2\n",
      "  (20799, 175349)\t0\n",
      "  (20799, 175378)\t0\n",
      "  (20799, 175409)\t1\n"
     ]
    }
   ],
   "source": [
    "# count_words\n",
    "X = []\n",
    "Y = list(df['label'])\n",
    "\n",
    "row = []\n",
    "col = []\n",
    "val = []\n",
    "for index, text in enumerate(df['full']):\n",
    "    count_words(index, text, row, col, val, vocab)\n",
    "print('Done counting words')\n",
    "\n",
    "X = csr_matrix((val, (row, col)), shape=(len(df), len(vocab)))\n",
    "print(X)"
   ]
  },
  {
   "cell_type": "code",
   "execution_count": 36,
   "metadata": {},
   "outputs": [
    {
     "name": "stdout",
     "output_type": "stream",
     "text": [
      "<class 'tuple'>\n",
      "<class 'str'>\n",
      "False\n",
      "13\n"
     ]
    },
    {
     "data": {
      "text/plain": [
       "\"didn't\""
      ]
     },
     "execution_count": 36,
     "metadata": {},
     "output_type": "execute_result"
    }
   ],
   "source": [
    "# testing\n",
    "\n",
    "list_1 = [1, 2, 3, 5, 7]\n",
    "list_2 = ['a', 'c', 'd', 'e', 'f']\n",
    "\n",
    "print(type( list(zip(list_1, list_2))[0] ))\n",
    "\n",
    "test_df = pd.DataFrame(list(zip(list_1, list_2)))\n",
    "test_df\n",
    "\n",
    "print(type(string.punctuation))\n",
    "print('’' in string.printable)\n",
    "print(ord(string.printable[-3]))\n",
    "\n",
    "\"didn’'t\".encode(\"ascii\", errors=\"ignore\").decode()"
   ]
  }
 ],
 "metadata": {
  "interpreter": {
   "hash": "f9245039b7065f14b62e432076b7db23b00fbc741237d9be88cc68156b823f50"
  },
  "kernelspec": {
   "display_name": "Python 3.9.7 64-bit ('.venv': venv)",
   "name": "python3"
  },
  "language_info": {
   "codemirror_mode": {
    "name": "ipython",
    "version": 3
   },
   "file_extension": ".py",
   "mimetype": "text/x-python",
   "name": "python",
   "nbconvert_exporter": "python",
   "pygments_lexer": "ipython3",
   "version": "3.9.7"
  }
 },
 "nbformat": 4,
 "nbformat_minor": 4
}
