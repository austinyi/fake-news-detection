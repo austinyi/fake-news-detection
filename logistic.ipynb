{
 "cells": [
  {
   "cell_type": "code",
   "execution_count": 2,
   "metadata": {},
   "outputs": [],
   "source": [
    "import pickle\n",
    "import pandas\n",
    "import scipy"
   ]
  },
  {
   "cell_type": "code",
   "execution_count": 3,
   "metadata": {},
   "outputs": [
    {
     "name": "stdout",
     "output_type": "stream",
     "text": [
      "27078\n",
      "<class 'scipy.sparse.csr.csr_matrix'> <class 'pandas.core.series.Series'>\n",
      "  (0, 65)\t1\n",
      "  (0, 157)\t1\n",
      "  (0, 191)\t1\n",
      "  (0, 221)\t1\n",
      "  (0, 260)\t1\n",
      "  (0, 274)\t1\n",
      "  (0, 275)\t1\n",
      "  (0, 279)\t1\n",
      "  (0, 287)\t1\n",
      "  (0, 373)\t1\n",
      "  (0, 747)\t1\n",
      "  (0, 770)\t1\n",
      "  (0, 788)\t1\n",
      "  (0, 848)\t1\n",
      "  (0, 859)\t2\n",
      "  (0, 860)\t3\n",
      "  (0, 986)\t1\n",
      "  (0, 1165)\t1\n",
      "  (0, 1167)\t1\n",
      "  (0, 1174)\t1\n",
      "  (0, 1295)\t1\n",
      "  (0, 1333)\t1\n",
      "  (0, 1374)\t1\n",
      "  (0, 1379)\t1\n",
      "  (0, 1466)\t1\n",
      "  :\t:\n",
      "  (26937, 23539)\t1\n",
      "  (26937, 23572)\t1\n",
      "  (26937, 23831)\t1\n",
      "  (26937, 23962)\t1\n",
      "  (26937, 24089)\t1\n",
      "  (26937, 24123)\t3\n",
      "  (26937, 24145)\t1\n",
      "  (26937, 24151)\t1\n",
      "  (26937, 24323)\t2\n",
      "  (26937, 24471)\t2\n",
      "  (26937, 24596)\t1\n",
      "  (26937, 24771)\t1\n",
      "  (26937, 25365)\t1\n",
      "  (26937, 25448)\t1\n",
      "  (26937, 25586)\t1\n",
      "  (26937, 25655)\t1\n",
      "  (26937, 26095)\t1\n",
      "  (26937, 26317)\t1\n",
      "  (26937, 26388)\t1\n",
      "  (26937, 26509)\t1\n",
      "  (26937, 26547)\t1\n",
      "  (26937, 26565)\t1\n",
      "  (26937, 26635)\t1\n",
      "  (26937, 26736)\t1\n",
      "  (26937, 26744)\t1\n"
     ]
    }
   ],
   "source": [
    "# To load objects\n",
    "with open('mat/train.p', 'rb') as file:\n",
    "    X_train = pickle.load(file)\n",
    "    y_train = pickle.load(file)\n",
    "    wordlist_filtered = pickle.load(file)\n",
    "print(len(wordlist_filtered))\n",
    "print(type(X_train), type(y_train))\n",
    "print(X_train)\n"
   ]
  },
  {
   "cell_type": "code",
   "execution_count": 11,
   "metadata": {},
   "outputs": [
    {
     "data": {
      "text/plain": [
       "LogisticRegression(max_iter=10000000)"
      ]
     },
     "execution_count": 11,
     "metadata": {},
     "output_type": "execute_result"
    }
   ],
   "source": [
    "from sklearn.linear_model import LogisticRegression\n",
    "\n",
    "lr = LogisticRegression(max_iter=10000000)\n",
    "lr.fit(X_train, y_train)"
   ]
  },
  {
   "cell_type": "code",
   "execution_count": 12,
   "metadata": {},
   "outputs": [],
   "source": [
    "import numpy as np\n",
    "\n",
    "def accuracy(y_hat, y):\n",
    "    y_hat = np.array(y_hat)\n",
    "    y = np.array(y)\n",
    "    return 1 - np.sum(np.abs(y_hat - y))/len(y)"
   ]
  },
  {
   "cell_type": "code",
   "execution_count": 24,
   "metadata": {},
   "outputs": [
    {
     "name": "stdout",
     "output_type": "stream",
     "text": [
      "K1: 0.979510\n",
      "K2: 0.439160\n",
      "K3: 0.739586\n",
      "L:  0.441260\n"
     ]
    }
   ],
   "source": [
    "with open('mat/test_Kaggle1.p', 'rb') as file:\n",
    "    X_test_K1 = pickle.load(file)\n",
    "    y_test_K1 = pickle.load(file)\n",
    "    wordlist_filtered = pickle.load(file)\n",
    "with open('mat/test_Kaggle2.p', 'rb') as file:\n",
    "    X_test_K2 = pickle.load(file)\n",
    "    y_test_K2 = pickle.load(file)\n",
    "    wordlist_filtered = pickle.load(file)\n",
    "with open('mat/test_Kaggle3.p', 'rb') as file:\n",
    "    X_test_K3 = pickle.load(file)\n",
    "    y_test_K3 = pickle.load(file)\n",
    "    wordlist_filtered = pickle.load(file)\n",
    "with open('mat/test_LIAR.p', 'rb') as file:\n",
    "    X_test_L = pickle.load(file)\n",
    "    y_test_L = pickle.load(file)\n",
    "    wordlist_filtered = pickle.load(file)\n",
    "\n",
    "y_hat_test_K1 = lr.predict(X_test_K1)\n",
    "print('K1: %f' % accuracy(y_hat_test_K1, y_test_K1))\n",
    "y_hat_test_K2 = lr.predict(X_test_K2)\n",
    "print('K2: %f' % accuracy(y_hat_test_K2, y_test_K2))\n",
    "y_hat_test_K3 = lr.predict(X_test_K3)\n",
    "print('K3: %f' % accuracy(y_hat_test_K3, y_test_K3))\n",
    "y_hat_test_L  = lr.predict(X_test_L)\n",
    "print('L:  %f' % accuracy(y_hat_test_L, y_test_L))"
   ]
  }
 ],
 "metadata": {
  "interpreter": {
   "hash": "f9245039b7065f14b62e432076b7db23b00fbc741237d9be88cc68156b823f50"
  },
  "kernelspec": {
   "display_name": "Python 3.9.7 64-bit ('.venv': venv)",
   "name": "python3"
  },
  "language_info": {
   "codemirror_mode": {
    "name": "ipython",
    "version": 3
   },
   "file_extension": ".py",
   "mimetype": "text/x-python",
   "name": "python",
   "nbconvert_exporter": "python",
   "pygments_lexer": "ipython3",
   "version": "3.9.7"
  },
  "orig_nbformat": 4
 },
 "nbformat": 4,
 "nbformat_minor": 2
}
